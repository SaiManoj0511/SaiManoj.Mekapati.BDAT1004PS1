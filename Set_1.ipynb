{
 "cells": [
  {
   "cell_type": "markdown",
   "id": "a561eb10",
   "metadata": {},
   "source": [
    "Question 1"
   ]
  },
  {
   "cell_type": "code",
   "execution_count": null,
   "id": "390b3740",
   "metadata": {},
   "outputs": [],
   "source": [
    "What data type is each of the following (evaluate where necessary)?"
   ]
  },
  {
   "cell_type": "markdown",
   "id": "56d5ac29",
   "metadata": {},
   "source": [
    "5"
   ]
  },
  {
   "cell_type": "code",
   "execution_count": 1,
   "id": "c6554ff4",
   "metadata": {},
   "outputs": [
    {
     "name": "stdout",
     "output_type": "stream",
     "text": [
      "<class 'int'>\n"
     ]
    }
   ],
   "source": [
    "x = 5;\n",
    "print(type(x))"
   ]
  },
  {
   "cell_type": "code",
   "execution_count": null,
   "id": "6d419b66",
   "metadata": {},
   "outputs": [],
   "source": [
    "5.0"
   ]
  },
  {
   "cell_type": "code",
   "execution_count": 2,
   "id": "15c4ec4e",
   "metadata": {},
   "outputs": [
    {
     "name": "stdout",
     "output_type": "stream",
     "text": [
      "<class 'float'>\n"
     ]
    }
   ],
   "source": [
    "x = 5.0;\n",
    "print(type(x))"
   ]
  },
  {
   "cell_type": "code",
   "execution_count": null,
   "id": "b662b7b8",
   "metadata": {},
   "outputs": [],
   "source": [
    "5 > 1"
   ]
  },
  {
   "cell_type": "code",
   "execution_count": 3,
   "id": "351bdbfa",
   "metadata": {},
   "outputs": [
    {
     "name": "stdout",
     "output_type": "stream",
     "text": [
      "<class 'bool'>\n"
     ]
    }
   ],
   "source": [
    "print(type(5>1))"
   ]
  },
  {
   "cell_type": "code",
   "execution_count": null,
   "id": "d3f0416e",
   "metadata": {},
   "outputs": [],
   "source": [
    "'5'"
   ]
  },
  {
   "cell_type": "code",
   "execution_count": 4,
   "id": "2c8ff709",
   "metadata": {},
   "outputs": [
    {
     "name": "stdout",
     "output_type": "stream",
     "text": [
      "<class 'str'>\n"
     ]
    }
   ],
   "source": [
    "x = '5'\n",
    "print(type(x))"
   ]
  },
  {
   "cell_type": "code",
   "execution_count": null,
   "id": "f38a6f12",
   "metadata": {},
   "outputs": [],
   "source": [
    "5 * 2"
   ]
  },
  {
   "cell_type": "code",
   "execution_count": 5,
   "id": "70b5aaea",
   "metadata": {},
   "outputs": [
    {
     "name": "stdout",
     "output_type": "stream",
     "text": [
      "<class 'int'>\n"
     ]
    }
   ],
   "source": [
    "x = (5*2)\n",
    "print(type(x))"
   ]
  },
  {
   "cell_type": "code",
   "execution_count": null,
   "id": "51e8d4b8",
   "metadata": {},
   "outputs": [],
   "source": [
    "'5' * 2"
   ]
  },
  {
   "cell_type": "code",
   "execution_count": 12,
   "id": "17be1356",
   "metadata": {},
   "outputs": [
    {
     "name": "stdout",
     "output_type": "stream",
     "text": [
      "<class 'str'>\n"
     ]
    }
   ],
   "source": [
    "x = '5' + '2'\n",
    "print(type(x))"
   ]
  },
  {
   "cell_type": "code",
   "execution_count": null,
   "id": "47ec1319",
   "metadata": {},
   "outputs": [],
   "source": [
    "'5' +  '2'"
   ]
  },
  {
   "cell_type": "code",
   "execution_count": 6,
   "id": "a1835ea9",
   "metadata": {},
   "outputs": [
    {
     "name": "stdout",
     "output_type": "stream",
     "text": [
      "<class 'str'>\n"
     ]
    }
   ],
   "source": [
    "x = '5' + '2'\n",
    "print(type(x))"
   ]
  },
  {
   "cell_type": "code",
   "execution_count": null,
   "id": "08c7d8df",
   "metadata": {},
   "outputs": [],
   "source": [
    "5 / 2"
   ]
  },
  {
   "cell_type": "code",
   "execution_count": 7,
   "id": "16530f7e",
   "metadata": {},
   "outputs": [
    {
     "name": "stdout",
     "output_type": "stream",
     "text": [
      "<class 'float'>\n"
     ]
    }
   ],
   "source": [
    "x = 5 / 2\n",
    "print(type(x))"
   ]
  },
  {
   "cell_type": "code",
   "execution_count": null,
   "id": "a8aa03cc",
   "metadata": {},
   "outputs": [],
   "source": [
    "5 % 2"
   ]
  },
  {
   "cell_type": "code",
   "execution_count": 8,
   "id": "e8076b00",
   "metadata": {},
   "outputs": [
    {
     "name": "stdout",
     "output_type": "stream",
     "text": [
      "<class 'int'>\n"
     ]
    }
   ],
   "source": [
    "x = 5 % 2\n",
    "print(type(x))"
   ]
  },
  {
   "cell_type": "code",
   "execution_count": null,
   "id": "26db9646",
   "metadata": {},
   "outputs": [],
   "source": [
    "{5, 2, 1}"
   ]
  },
  {
   "cell_type": "code",
   "execution_count": 9,
   "id": "713bb7e8",
   "metadata": {},
   "outputs": [
    {
     "name": "stdout",
     "output_type": "stream",
     "text": [
      "<class 'set'>\n"
     ]
    }
   ],
   "source": [
    "x = {5, 2, 1}\n",
    "print(type(x))"
   ]
  },
  {
   "cell_type": "code",
   "execution_count": null,
   "id": "5160da3d",
   "metadata": {},
   "outputs": [],
   "source": [
    "5 == 3"
   ]
  },
  {
   "cell_type": "code",
   "execution_count": 10,
   "id": "ef91a3f7",
   "metadata": {},
   "outputs": [
    {
     "name": "stdout",
     "output_type": "stream",
     "text": [
      "<class 'bool'>\n"
     ]
    }
   ],
   "source": [
    "print(type(5==3))"
   ]
  },
  {
   "cell_type": "code",
   "execution_count": null,
   "id": "ec8cdee6",
   "metadata": {},
   "outputs": [],
   "source": [
    "Pi"
   ]
  },
  {
   "cell_type": "code",
   "execution_count": 11,
   "id": "9678a14f",
   "metadata": {},
   "outputs": [
    {
     "name": "stdout",
     "output_type": "stream",
     "text": [
      "<class 'float'>\n"
     ]
    }
   ],
   "source": [
    "import math\n",
    "print(type(math.pi))"
   ]
  },
  {
   "cell_type": "code",
   "execution_count": null,
   "id": "ffc6b08d",
   "metadata": {},
   "outputs": [],
   "source": [
    "Question 2 "
   ]
  },
  {
   "cell_type": "code",
   "execution_count": null,
   "id": "1813b204",
   "metadata": {},
   "outputs": [],
   "source": [
    "Write (and evaluate) python expressions that answer these questions:"
   ]
  },
  {
   "cell_type": "code",
   "execution_count": null,
   "id": "c86d62ec",
   "metadata": {},
   "outputs": [],
   "source": [
    "a. How many letters are there in 'Supercalifragilisticexpialidocious'?"
   ]
  },
  {
   "cell_type": "code",
   "execution_count": 13,
   "id": "8f5d7dad",
   "metadata": {},
   "outputs": [
    {
     "name": "stdout",
     "output_type": "stream",
     "text": [
      "34\n"
     ]
    }
   ],
   "source": [
    "print(len(\"Supercalifragilisticexpialidocious\"))"
   ]
  },
  {
   "cell_type": "code",
   "execution_count": null,
   "id": "48fa4221",
   "metadata": {},
   "outputs": [],
   "source": [
    "b. Does 'Supercalifragilisticexpialidocious' contain 'ice' as a substring? "
   ]
  },
  {
   "cell_type": "code",
   "execution_count": 14,
   "id": "fa43985c",
   "metadata": {},
   "outputs": [
    {
     "name": "stdout",
     "output_type": "stream",
     "text": [
      "True\n"
     ]
    }
   ],
   "source": [
    "print('ice' in 'Supercalifragilisticexpialidocious' )"
   ]
  },
  {
   "cell_type": "code",
   "execution_count": null,
   "id": "585d50af",
   "metadata": {},
   "outputs": [],
   "source": [
    "c. Which of the following words is the longest:\n",
    "Supercalifragilisticexpialidocious, Honorificabilitudinitatibus, orBababadalgharaghtakamminarronnkonn? "
   ]
  },
  {
   "cell_type": "code",
   "execution_count": 22,
   "id": "fc73e4b6",
   "metadata": {},
   "outputs": [
    {
     "name": "stdout",
     "output_type": "stream",
     "text": [
      "The word with the longest length is: orBababadalgharaghtakamminarronnkonn  and length is  36\n"
     ]
    }
   ],
   "source": [
    "def longestLength(words):\n",
    "    res=max(words,key=len)\n",
    "    print(\"The word with the longest length is:\", res,\" and length is \", len(res)) \n",
    "\n",
    "a = [\"Supercalifragilisticexpialidocious\", \"Honorificabilitudinitatibus\", \"orBababadalgharaghtakamminarronnkonn\"]\n",
    "longestLength(a)                                                                                        "
   ]
  },
  {
   "cell_type": "code",
   "execution_count": null,
   "id": "0b7ff999",
   "metadata": {},
   "outputs": [],
   "source": [
    "d. Which composer comes first in the dictionary: 'Berlioz', 'Borodin', 'Brian',\n",
    "'Bartok', 'Bellini', 'Buxtehude', 'Bernstein'. Which one comes last?"
   ]
  },
  {
   "cell_type": "code",
   "execution_count": 23,
   "id": "e1835768",
   "metadata": {},
   "outputs": [
    {
     "name": "stdout",
     "output_type": "stream",
     "text": [
      "First composer: Bartok\n",
      "Last composer: Buxtehude\n"
     ]
    }
   ],
   "source": [
    "composers = ['Berlioz', 'Borodin', 'Brian', 'Bartok', 'Bellini', 'Buxtehude', 'Bernstein']\n",
    "composers.sort()\n",
    "first_composer = composers[0]\n",
    "last_composer = composers[-1]\n",
    "print(\"First composer:\", first_composer)\n",
    "print(\"Last composer:\", last_composer)"
   ]
  },
  {
   "cell_type": "code",
   "execution_count": null,
   "id": "fc5fb8ca",
   "metadata": {},
   "outputs": [],
   "source": [
    "Question 3"
   ]
  },
  {
   "cell_type": "code",
   "execution_count": null,
   "id": "7e127d97",
   "metadata": {},
   "outputs": [],
   "source": [
    "Implement function triangleArea(a,b,c) that takes as input the lengths of the 3\n",
    "sides of a triangle and returns the area of the triangle. By Heron's formula, the area\n",
    "of a triangle with side lengths a, b, and c is\n",
    "s(s - a)(s -b)(s -c)\n",
    ", where\n",
    "s = (a+b+c)/2 and find triangleArea(2,2,2) "
   ]
  },
  {
   "cell_type": "code",
   "execution_count": 24,
   "id": "a5e27206",
   "metadata": {},
   "outputs": [
    {
     "name": "stdout",
     "output_type": "stream",
     "text": [
      "Area of the triangle: 1.7320508075688772\n"
     ]
    }
   ],
   "source": [
    "import math\n",
    "\n",
    "def triangleArea(a, b, c):\n",
    "    # Calculating the semi-perimeter (s)\n",
    "    s = (a + b + c) / 2\n",
    "    \n",
    "    # Calculating the area using Heron's formula\n",
    "    area = math.sqrt(s * (s - a) * (s - b) * (s - c))\n",
    "    \n",
    "    return area\n",
    "\n",
    "area = triangleArea(2, 2, 2)\n",
    "print(\"Area of the triangle:\", area)"
   ]
  },
  {
   "cell_type": "code",
   "execution_count": null,
   "id": "1e184b09",
   "metadata": {},
   "outputs": [],
   "source": [
    "Question 4"
   ]
  },
  {
   "cell_type": "code",
   "execution_count": null,
   "id": "9ab09005",
   "metadata": {},
   "outputs": [],
   "source": [
    "Write a program in python to separate odd and even integers in separate arrays. Go\n",
    "to the editor\n",
    "Test Data :\n",
    "Input the number of elements to be stored in the array :5\n",
    "Input 5 elements in the array :\n",
    "element - 0 : 25\n",
    "element - 1 : 47\n",
    "element - 2 : 42\n",
    "element - 3 : 56\n",
    "element - 4 : 32"
   ]
  },
  {
   "cell_type": "code",
   "execution_count": 26,
   "id": "c4b35327",
   "metadata": {},
   "outputs": [
    {
     "name": "stdout",
     "output_type": "stream",
     "text": [
      "Input the number of elements to be stored in the array: 5\n",
      "Element - 0 : 25\n",
      "Element - 1 : 47\n",
      "Element - 2 : 42\n",
      "Element - 3 : 56\n",
      "Element - 4 : 32\n",
      "Odd Numbers: [25, 47]\n",
      "Even Numbers: [42, 56, 32]\n"
     ]
    }
   ],
   "source": [
    "numofelements = int(input(\"Input the number of elements to be stored in the array: \"))\n",
    "\n",
    "odd_numbers = []\n",
    "even_numbers = []\n",
    "\n",
    "\n",
    "for i in range(numofelements):\n",
    "    element = int(input(f\"Element - {i} : \"))\n",
    "    if element % 2 == 0:\n",
    "        even_numbers.append(element)\n",
    "    else:\n",
    "        odd_numbers.append(element)\n",
    "\t\t\n",
    "\t\t\n",
    "print(\"Odd Numbers:\", odd_numbers)\n",
    "print(\"Even Numbers:\", even_numbers)"
   ]
  },
  {
   "cell_type": "code",
   "execution_count": null,
   "id": "c105e38e",
   "metadata": {},
   "outputs": [],
   "source": [
    "Question 5"
   ]
  },
  {
   "cell_type": "code",
   "execution_count": null,
   "id": "0c870951",
   "metadata": {},
   "outputs": [],
   "source": [
    "a. Write a function inside(x,y,x1,y1,x2,y2) that returns True or False\n",
    "depending on whether the point (x,y) lies in the rectangle with lower left\n",
    "corner (x1,y1) and upper right corner (x2,y2).\n"
   ]
  },
  {
   "cell_type": "code",
   "execution_count": 27,
   "id": "10622f23",
   "metadata": {},
   "outputs": [],
   "source": [
    "def inside(x,y,x1,y1,x2,y2):\n",
    "    if (x > x1 and x < x2 and\n",
    "        y > y1 and y < y2) :\n",
    "        return True\n",
    "    else :\n",
    "        return False"
   ]
  },
  {
   "cell_type": "code",
   "execution_count": 28,
   "id": "c917d18d",
   "metadata": {},
   "outputs": [
    {
     "data": {
      "text/plain": [
       "True"
      ]
     },
     "execution_count": 28,
     "metadata": {},
     "output_type": "execute_result"
    }
   ],
   "source": [
    "inside(1,1,0,0,2,3)"
   ]
  },
  {
   "cell_type": "code",
   "execution_count": 29,
   "id": "96e096e1",
   "metadata": {},
   "outputs": [
    {
     "data": {
      "text/plain": [
       "False"
      ]
     },
     "execution_count": 29,
     "metadata": {},
     "output_type": "execute_result"
    }
   ],
   "source": [
    "inside(-1,-1,0,0,2,3)"
   ]
  },
  {
   "cell_type": "code",
   "execution_count": null,
   "id": "44dd39ad",
   "metadata": {},
   "outputs": [],
   "source": [
    "b. Use function inside() from part a. to write an expression that tests whether\n",
    "the point (1,1) lies in both of the following rectangles: one with lower left\n",
    "corner (0.3, 0.5) and upper right corner (1.1, 0.7) and the other with lower\n",
    "left corner (0.5, 0.2) and upper right corner (1.1, 2). "
   ]
  },
  {
   "cell_type": "code",
   "execution_count": 30,
   "id": "e9dff942",
   "metadata": {},
   "outputs": [],
   "source": [
    "def inside(x,y,x1,y1,x2,y2):\n",
    "    if (x > x1 and x < x2 and\n",
    "        y > y1 and y < y2) :\n",
    "        return True\n",
    "    else :\n",
    "        return False"
   ]
  },
  {
   "cell_type": "code",
   "execution_count": 31,
   "id": "4f6ef259",
   "metadata": {},
   "outputs": [
    {
     "data": {
      "text/plain": [
       "False"
      ]
     },
     "execution_count": 31,
     "metadata": {},
     "output_type": "execute_result"
    }
   ],
   "source": [
    "inside(1,1,0.3,0.5,1.1,0.7)"
   ]
  },
  {
   "cell_type": "code",
   "execution_count": 32,
   "id": "fa9a2794",
   "metadata": {},
   "outputs": [
    {
     "data": {
      "text/plain": [
       "True"
      ]
     },
     "execution_count": 32,
     "metadata": {},
     "output_type": "execute_result"
    }
   ],
   "source": [
    "inside(1,1,0.5,0.2,1.1,2.0)"
   ]
  },
  {
   "cell_type": "code",
   "execution_count": null,
   "id": "4ba8108a",
   "metadata": {},
   "outputs": [],
   "source": [
    "Question 6"
   ]
  },
  {
   "cell_type": "code",
   "execution_count": null,
   "id": "f5eac50a",
   "metadata": {},
   "outputs": [],
   "source": [
    "You can turn a word into pig-Latin using the following two rules (simplified):\n",
    "• If the word starts with a consonant, move that letter to the end and append\n",
    "'ay'. For example, 'happy' becomes 'appyhay' and 'pencil' becomes 'encilpay'.\n",
    "• If the word starts with a vowel, simply append 'way' to the end of the word.\n",
    "For example, 'enter' becomes 'enterway' and 'other' becomes 'otherway' . For\n",
    "our purposes, there are 5 vowels: a, e, i, o, u (so we count y as a consonant).\n",
    "Write a function pig() that takes a word (i.e., a string) as input and returns its pigLatin form. Your function should still work if the input word contains upper case\n",
    "characters. Your output should always be lower case however."
   ]
  },
  {
   "cell_type": "code",
   "execution_count": 2,
   "id": "03c7acac",
   "metadata": {},
   "outputs": [
    {
     "name": "stdout",
     "output_type": "stream",
     "text": [
      "Enter a string:  \n",
      "happy\n",
      "appyhay\n",
      "\n",
      "Enter a string:  \n",
      "enter\n",
      "enterway\n"
     ]
    }
   ],
   "source": [
    "def pig(get_input):\n",
    "    string = get_input\n",
    "    arr_char = []\n",
    "    for x in string:\n",
    "            arr_char.append(x)\n",
    "    concat_string = \"\"\n",
    "    x = arr_char[0]\n",
    "\n",
    "             \n",
    "    if(x=='a' or x=='e' or x=='i' or x=='o' or x=='u'):\n",
    "            arr_char.append('way')\n",
    "    else:\n",
    "            arr_char.pop(0)\n",
    "            arr_char.append(x)\n",
    "            arr_char.append('ay') \n",
    "              \n",
    "    for x in arr_char:\n",
    "            concat_string +=x\n",
    "\n",
    "    return concat_string\n",
    "\n",
    "print(\"Enter a string:  \")\n",
    "get_value_from_user = input()\n",
    "print(pig(get_value_from_user))\n",
    "print(\"\\nEnter a string:  \")\n",
    "get_value_from_user = input()\n",
    "print(pig(get_value_from_user))"
   ]
  },
  {
   "cell_type": "code",
   "execution_count": null,
   "id": "3c06f69c",
   "metadata": {},
   "outputs": [],
   "source": [
    "Question 7"
   ]
  },
  {
   "cell_type": "code",
   "execution_count": null,
   "id": "f669719c",
   "metadata": {},
   "outputs": [],
   "source": [
    "File bloodtype1.txt records blood-types of patients (A, B, AB, O or OO) at a clinic.\n",
    "Write a function bldcount() that reads the file with name name and reports (i.e.,\n",
    "prints) how many patients there are in each bloodtype."
   ]
  },
  {
   "cell_type": "code",
   "execution_count": 3,
   "id": "0e163af6",
   "metadata": {},
   "outputs": [
    {
     "name": "stdout",
     "output_type": "stream",
     "text": [
      "There are 15 patients with blood group A\n",
      "There are 1 patients with blood group B\n",
      "There are 13 patients with blood group AB\n",
      "There are 15 patients with blood group O\n",
      "There are 0 patients with blood group OO\n"
     ]
    }
   ],
   "source": [
    "#f = open(\"bloodtype1.txt\", \"r\")\n",
    "#get_data = f.read()\n",
    "#just to show the program works\n",
    "get_data = \"AB AB B O A A AB O AB A O O A A A O O O AB O A A A A A AB AB A AB O AB O A O O O AB O AB AB AB A A O\"\n",
    "get_count = 0\n",
    "covert_array = get_data.split()\n",
    "base_data = ['A','B','AB','O','OO']\n",
    "for x in base_data:\n",
    "    get_count = covert_array.count(x)\n",
    "    print(\"There are {0} patients with blood group {1}\".format(get_count,x))"
   ]
  },
  {
   "cell_type": "code",
   "execution_count": null,
   "id": "d0484fd8",
   "metadata": {},
   "outputs": [],
   "source": [
    "Question 8"
   ]
  },
  {
   "cell_type": "code",
   "execution_count": null,
   "id": "f5a571e5",
   "metadata": {},
   "outputs": [],
   "source": [
    "Write a function curconv() that takes as input:\n",
    "1. a currency represented using a string (e.g., 'JPY' for the Japanese Yen or\n",
    "'EUR' for the Euro)\n",
    "2. an amount\n",
    "and then converts and returns the amount in US dollars.\n",
    "\n",
    "The currency rates you will need are stored in file currencies.txt:\n",
    "AUD 1.0345157 Australian Dollar\n",
    "CHF 1.0237414 Swiss Franc\n",
    "CNY 0.1550176 Chinese Yuan\n",
    "DKK 0.1651442 Danish Krone\n",
    "EUR 1.2296544 Euro\n",
    "GBP 1.5550989 British Pound\n",
    "HKD 0.1270207 Hong Kong Dollar\n",
    "INR 0.0177643 Indian Rupee\n",
    "JPY 0.01241401 Japanese Yen\n",
    "MXN 0.0751848 Mexican Peso\n",
    "MYR 0.3145411 Malaysian Ringgit\n",
    "NOK 0.1677063 Norwegian Krone\n",
    "NZD 0.8003591 New Zealand Dollar\n",
    "PHP 0.0233234 Philippine Peso\n",
    "SEK 0.148269 Swedish Krona\n",
    "SGD 0.788871 Singapore Dollar\n",
    "THB 0.0313789 Thai Baht"
   ]
  },
  {
   "cell_type": "code",
   "execution_count": 5,
   "id": "161b6bdb",
   "metadata": {},
   "outputs": [
    {
     "name": "stdout",
     "output_type": "stream",
     "text": [
      "Enter first Currency\n",
      "EUR\n",
      "Enter first Value\n",
      "100\n",
      "122.96544\n",
      "Enter second Currency\n",
      "JPY\n",
      "Enter second Value\n",
      "100\n",
      "1.241401\n"
     ]
    }
   ],
   "source": [
    "def curcov(curr_input,val_input):\n",
    "    #f = open(\"currencies.txt\", \"r\") \n",
    "    #get_data = f.read()\n",
    "    #just to show the program works\n",
    "    split_data = ['AUD', '1.0345157', 'Australian', 'Dollar', 'CHF', '1.0237414', 'Swiss', 'Franc', 'CNY', '0.1550176', 'Chinese', 'Yuan', 'DKK', '0.1651442', 'Danish', 'Krone', 'EUR', '1.2296544', 'Euro', 'GBP', '1.5550989', 'British', 'Pound', 'HKD', '0.1270207', 'Hong', 'Kong', 'Dollar', 'INR', '0.0177643', 'Indian', 'Rupee', 'JPY', '0.01241401', 'Japanese', 'Yen', 'MXN', '0.0751848', 'Mexican', 'Peso', 'MYR', '0.3145411', 'Malaysian', 'Ringgit', 'NOK', '0.1677063', 'Norwegian', 'Krone', 'NZD', '0.8003591', 'New', 'Zealand', 'Dollar', 'PHP', '0.0233234', 'Philippine', 'Peso', 'SEK', '0.148269', 'Swedish', 'Krona', 'SGD', '0.788871', 'Singapore', 'Dollar', 'THB', '0.0313789', 'Thai', 'Baht']\n",
    "    #split_data = get_data.split()\n",
    "    get_index = split_data.index(curr_input)\n",
    "    conv_value = split_data[get_index+1]\n",
    "    calculate = float(conv_value) * float(val_input)\n",
    "    print(calculate)\n",
    "\n",
    "print(\"Enter first Currency\")\n",
    "curr_input = input()\n",
    "print(\"Enter first Value\")\n",
    "val_input = input()\n",
    "curcov(curr_input,val_input)\n",
    "\n",
    "print(\"Enter second Currency\")\n",
    "curr_input = input()\n",
    "print(\"Enter second Value\")\n",
    "val_input = input()\n",
    "curcov(curr_input,val_input)"
   ]
  },
  {
   "cell_type": "code",
   "execution_count": null,
   "id": "56cdfd6d",
   "metadata": {},
   "outputs": [],
   "source": [
    "Question 9"
   ]
  },
  {
   "cell_type": "code",
   "execution_count": null,
   "id": "f82df08e",
   "metadata": {},
   "outputs": [],
   "source": [
    "Each of the following will cause an exception (an error). Identify what type of\n",
    "exception each will cause."
   ]
  },
  {
   "cell_type": "code",
   "execution_count": null,
   "id": "0110e8d0",
   "metadata": {},
   "outputs": [],
   "source": [
    "a. Trying to add incompatible variables, as in adding 6 + 'a'"
   ]
  },
  {
   "cell_type": "code",
   "execution_count": null,
   "id": "ae452e93",
   "metadata": {},
   "outputs": [],
   "source": [
    "unsupported operand type(s) for +: 'int' and 'str'\n"
   ]
  },
  {
   "cell_type": "code",
   "execution_count": null,
   "id": "a1b4d994",
   "metadata": {},
   "outputs": [],
   "source": [
    "b. Referring to the 12th item of a list that has only 10 items"
   ]
  },
  {
   "cell_type": "code",
   "execution_count": null,
   "id": "03e548ef",
   "metadata": {},
   "outputs": [],
   "source": [
    "list index out of range"
   ]
  },
  {
   "cell_type": "code",
   "execution_count": null,
   "id": "d0a56fec",
   "metadata": {},
   "outputs": [],
   "source": [
    "c. Using a value that is out of range for a function’s input, such as calling math.sqrt( 1.0)"
   ]
  },
  {
   "cell_type": "code",
   "execution_count": null,
   "id": "6fdc05c5",
   "metadata": {},
   "outputs": [],
   "source": [
    "math domain error"
   ]
  },
  {
   "cell_type": "code",
   "execution_count": null,
   "id": "5998bf7d",
   "metadata": {},
   "outputs": [],
   "source": [
    "d. Using an undeclared variable, such as print(x) when x has not been defined"
   ]
  },
  {
   "cell_type": "code",
   "execution_count": null,
   "id": "9fdcc5e9",
   "metadata": {},
   "outputs": [],
   "source": [
    "name 'x' is not defined"
   ]
  },
  {
   "cell_type": "code",
   "execution_count": null,
   "id": "0236a819",
   "metadata": {},
   "outputs": [],
   "source": [
    "e. Trying to open a file that does not exist, such as mistyping the file name or looking in the wrong directory."
   ]
  },
  {
   "cell_type": "code",
   "execution_count": null,
   "id": "42c71309",
   "metadata": {},
   "outputs": [],
   "source": [
    "No such file or directory"
   ]
  },
  {
   "cell_type": "code",
   "execution_count": null,
   "id": "420628e7",
   "metadata": {},
   "outputs": [],
   "source": [
    "Question 10"
   ]
  },
  {
   "cell_type": "code",
   "execution_count": null,
   "id": "ae243348",
   "metadata": {},
   "outputs": [],
   "source": [
    "Encryption is the process of hiding the meaning of a text by substituting letters in the\n",
    "message with other letters, according to some system. If the process is successful, no\n",
    "one but the intended recipient can understand the encrypted message. Cryptanalysis\n",
    "refers to attempts to undo the encryption, even if some details of the encryption are\n",
    "unknown (for example, if an encrypted message has been intercepted). The first step\n",
    "of cryptanalysis is often to build up a table of letter frequencies in the encrypted text.\n",
    "Assume that the string letters is already defined as\n",
    "'abcdefghijklmnopqrstuvwxyz'. Write a function called frequencies()\n",
    "that takes a string as its only parameter, and returns a list of integers, showing the\n",
    "number of times each character appears in the text. Your function may ignore any\n",
    "characters that are not in letters. "
   ]
  },
  {
   "cell_type": "code",
   "execution_count": 9,
   "id": "2dabad37",
   "metadata": {},
   "outputs": [],
   "source": [
    "def frequencies(get_string):\n",
    "    char_string = []\n",
    "    string_alphabets = \"abcdefghijklmnopkrstuvwxyz\"\n",
    "\n",
    "    for x in get_string:\n",
    "        char_string.append(x)\n",
    "    \n",
    "    for x in string_alphabets:\n",
    "        print(char_string.count(x))"
   ]
  },
  {
   "cell_type": "code",
   "execution_count": 10,
   "id": "e32e1d5b",
   "metadata": {},
   "outputs": [
    {
     "name": "stdout",
     "output_type": "stream",
     "text": [
      "1\n",
      "1\n",
      "1\n",
      "3\n",
      "5\n",
      "1\n",
      "1\n",
      "2\n",
      "1\n",
      "0\n",
      "1\n",
      "0\n",
      "1\n",
      "2\n",
      "4\n",
      "0\n",
      "1\n",
      "2\n",
      "0\n",
      "2\n",
      "1\n",
      "0\n",
      "1\n",
      "1\n",
      "0\n",
      "0\n"
     ]
    }
   ],
   "source": [
    "frequencies('The quick red fox got bored and went home')"
   ]
  },
  {
   "cell_type": "code",
   "execution_count": 11,
   "id": "0a116e6c",
   "metadata": {},
   "outputs": [
    {
     "name": "stdout",
     "output_type": "stream",
     "text": [
      "1\n",
      "0\n",
      "0\n",
      "0\n",
      "1\n",
      "0\n",
      "0\n",
      "0\n",
      "0\n",
      "0\n",
      "0\n",
      "1\n",
      "0\n",
      "0\n",
      "0\n",
      "2\n",
      "0\n",
      "0\n",
      "0\n",
      "0\n",
      "0\n",
      "0\n",
      "0\n",
      "0\n",
      "0\n",
      "0\n"
     ]
    }
   ],
   "source": [
    "frequencies('apple')"
   ]
  },
  {
   "cell_type": "code",
   "execution_count": null,
   "id": "7c889b9a",
   "metadata": {},
   "outputs": [],
   "source": []
  }
 ],
 "metadata": {
  "kernelspec": {
   "display_name": "Python 3 (ipykernel)",
   "language": "python",
   "name": "python3"
  },
  "language_info": {
   "codemirror_mode": {
    "name": "ipython",
    "version": 3
   },
   "file_extension": ".py",
   "mimetype": "text/x-python",
   "name": "python",
   "nbconvert_exporter": "python",
   "pygments_lexer": "ipython3",
   "version": "3.11.4"
  }
 },
 "nbformat": 4,
 "nbformat_minor": 5
}
